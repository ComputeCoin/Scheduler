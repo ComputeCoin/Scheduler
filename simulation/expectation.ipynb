{
 "cells": [
  {
   "cell_type": "code",
   "execution_count": 1,
   "metadata": {},
   "outputs": [],
   "source": [
    "import csv"
   ]
  },
  {
   "cell_type": "code",
   "execution_count": 2,
   "metadata": {},
   "outputs": [],
   "source": [
    "# 0: Source -1: Target\n",
    "Nodes = {-1:None}\n",
    "Total_Node = 0"
   ]
  },
  {
   "cell_type": "code",
   "execution_count": 3,
   "metadata": {},
   "outputs": [],
   "source": [
    "class Node:\n",
    "    def __init__(self, my_ID, num_link_to, to_list, prob_list):\n",
    "        self.ID = my_ID\n",
    "        self.num_link = num_link_to\n",
    "        self.to_list = to_list\n",
    "        self.prob_list = prob_list\n",
    "        "
   ]
  },
  {
   "cell_type": "code",
   "execution_count": 4,
   "metadata": {},
   "outputs": [],
   "source": [
    "F = open('test_1.graph','r')\n",
    "CF = csv.reader(F)\n",
    "for line in CF:\n",
    "    num_node = (int)((len(line)-1)/2)\n",
    "    to_list = []\n",
    "    prob_list = []\n",
    "    ID = (int)(line[0])\n",
    "    for i in range(num_node):\n",
    "        to_list.append((int)(line[2*i+1]))\n",
    "        prob_list.append((float)(line[2*i+2]))\n",
    "        \n",
    "    Nodes[ID] = Node(ID,num_node, to_list, prob_list)\n",
    "    Total_Node += 1\n",
    "\n",
    "F.close()"
   ]
  },
  {
   "cell_type": "code",
   "execution_count": 5,
   "metadata": {},
   "outputs": [
    {
     "name": "stdout",
     "output_type": "stream",
     "text": [
      "18\n"
     ]
    }
   ],
   "source": [
    "# Simulation\n",
    "Prob_Graph = [[1.0]]\n",
    "for i in range(Total_Node-1):\n",
    "    Prob_Graph.append([]) # Source\n",
    "print(Total_Node)"
   ]
  },
  {
   "cell_type": "code",
   "execution_count": 6,
   "metadata": {},
   "outputs": [],
   "source": [
    "# Starting Node(s)\n",
    "Now_At = set([0])"
   ]
  },
  {
   "cell_type": "code",
   "execution_count": 7,
   "metadata": {},
   "outputs": [],
   "source": [
    "def Simulate_Node(NowAt):\n",
    "    global Nodes, Prob_Graph\n",
    "    next_At = set([])\n",
    "    for i in NowAt:\n",
    "        if i == -1:  # ending in target node\n",
    "            continue\n",
    "        for tar in range(Nodes[i].num_link):\n",
    "            Prob_Graph[Nodes[i].to_list[tar]].append(0.0)\n",
    "            Prob_Graph[Nodes[i].to_list[tar]][-1] += \\\n",
    "                Nodes[i].prob_list[tar] * Prob_Graph[i][-1]\n",
    "            \n",
    "            next_At.add(Nodes[i].to_list[tar])\n",
    "        \n",
    "    # Update to the next step\n",
    "    return next_At"
   ]
  },
  {
   "cell_type": "code",
   "execution_count": 8,
   "metadata": {},
   "outputs": [],
   "source": [
    "while len(Prob_Graph[-1]) < 5:\n",
    "    Now_At = Simulate_Node(Now_At)"
   ]
  },
  {
   "cell_type": "code",
   "execution_count": 9,
   "metadata": {},
   "outputs": [
    {
     "data": {
      "text/plain": [
       "[[1.0],\n",
       " [1.0,\n",
       "  0.05,\n",
       "  0.0025000000000000005,\n",
       "  0.00012500000000000003,\n",
       "  6.250000000000002e-06],\n",
       " [1.0,\n",
       "  0.05,\n",
       "  0.0025000000000000005,\n",
       "  0.00012500000000000003,\n",
       "  6.250000000000002e-06],\n",
       " [0.2,\n",
       "  0.010000000000000002,\n",
       "  0.0005000000000000001,\n",
       "  2.5000000000000008e-05,\n",
       "  1.2500000000000005e-06],\n",
       " [0.06, 0.0030000000000000005, 0.00015000000000000004, 7.500000000000002e-06],\n",
       " [0.04000000000000001,\n",
       "  0.0020000000000000005,\n",
       "  0.00010000000000000003,\n",
       "  5.000000000000002e-06],\n",
       " [0.1, 0.005000000000000001, 0.00025000000000000006, 1.2500000000000004e-05],\n",
       " [0.020999999999999998,\n",
       "  0.0010500000000000002,\n",
       "  5.250000000000001e-05,\n",
       "  2.6250000000000007e-06],\n",
       " [0.036, 0.0018000000000000002, 9.000000000000002e-05, 4.500000000000001e-06],\n",
       " [0.022000000000000006,\n",
       "  0.0011000000000000003,\n",
       "  5.500000000000002e-05,\n",
       "  2.750000000000001e-06],\n",
       " [0.016000000000000004,\n",
       "  0.0008000000000000003,\n",
       "  4.000000000000002e-05,\n",
       "  2.0000000000000008e-06],\n",
       " [0.05, 0.0025000000000000005, 0.00012500000000000003, 6.250000000000002e-06],\n",
       " [0.05, 0.0025000000000000005, 0.00012500000000000003, 6.250000000000002e-06],\n",
       " [0.020999999999999998,\n",
       "  0.036,\n",
       "  0.0010500000000000002,\n",
       "  0.0018000000000000002,\n",
       "  5.250000000000001e-05,\n",
       "  9.000000000000002e-05,\n",
       "  2.6250000000000007e-06,\n",
       "  4.500000000000001e-06],\n",
       " [0.022000000000000006,\n",
       "  0.016000000000000004,\n",
       "  0.0011000000000000003,\n",
       "  0.0008000000000000003,\n",
       "  5.500000000000002e-05,\n",
       "  4.000000000000002e-05,\n",
       "  2.750000000000001e-06,\n",
       "  2.0000000000000008e-06],\n",
       " [0.05,\n",
       "  0.05,\n",
       "  0.0025000000000000005,\n",
       "  0.0025000000000000005,\n",
       "  0.00012500000000000003,\n",
       "  0.00012500000000000003,\n",
       "  6.250000000000002e-06,\n",
       "  6.250000000000002e-06],\n",
       " [0.036,\n",
       "  0.016000000000000004,\n",
       "  0.05,\n",
       "  0.0018000000000000002,\n",
       "  0.0008000000000000003,\n",
       "  0.0025000000000000005,\n",
       "  9.000000000000002e-05,\n",
       "  4.000000000000002e-05,\n",
       "  0.00012500000000000003,\n",
       "  4.500000000000001e-06,\n",
       "  2.0000000000000008e-06,\n",
       "  6.250000000000002e-06],\n",
       " [0.8,\n",
       "  0.04000000000000001,\n",
       "  0.0020000000000000005,\n",
       "  0.00010000000000000003,\n",
       "  5.000000000000002e-06]]"
      ]
     },
     "execution_count": 9,
     "metadata": {},
     "output_type": "execute_result"
    }
   ],
   "source": [
    "Prob_Graph"
   ]
  },
  {
   "cell_type": "code",
   "execution_count": 11,
   "metadata": {},
   "outputs": [
    {
     "name": "stdout",
     "output_type": "stream",
     "text": [
      "0.8421050000000001\n"
     ]
    }
   ],
   "source": [
    "P = 0\n",
    "for d in Prob_Graph[-1]:\n",
    "    P += d\n",
    "\n",
    "print(P)"
   ]
  },
  {
   "cell_type": "code",
   "execution_count": null,
   "metadata": {},
   "outputs": [],
   "source": []
  }
 ],
 "metadata": {
  "kernelspec": {
   "display_name": "Python 3",
   "language": "python",
   "name": "python3"
  },
  "language_info": {
   "codemirror_mode": {
    "name": "ipython",
    "version": 3
   },
   "file_extension": ".py",
   "mimetype": "text/x-python",
   "name": "python",
   "nbconvert_exporter": "python",
   "pygments_lexer": "ipython3",
   "version": "3.6.3"
  }
 },
 "nbformat": 4,
 "nbformat_minor": 2
}

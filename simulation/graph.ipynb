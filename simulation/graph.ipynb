{
 "cells": [
  {
   "cell_type": "code",
   "execution_count": 1,
   "metadata": {},
   "outputs": [],
   "source": [
    "import numpy"
   ]
  },
  {
   "cell_type": "code",
   "execution_count": 2,
   "metadata": {},
   "outputs": [],
   "source": [
    "def set_node(File, Node, out_list, prob_list):\n",
    "    s = '%i'%(Node)\n",
    "    Len = len(out_list)\n",
    "    for i in range(Len):\n",
    "        s += ',%i,%.2f'%(out_list[i], prob_list[i])\n",
    "    \n",
    "    F.write(s[:-1])\n",
    "    F.write('\\n')"
   ]
  },
  {
   "cell_type": "code",
   "execution_count": 3,
   "metadata": {},
   "outputs": [],
   "source": [
    "Data = []\n",
    "\n",
    "outS = [1]\n",
    "proS = [1.0]\n",
    "Data.append([0,outS,proS])\n"
   ]
  },
  {
   "cell_type": "code",
   "execution_count": 4,
   "metadata": {},
   "outputs": [],
   "source": [
    "out = [2]\n",
    "pro = [1]\n",
    "Data.append([1,out,pro])\n",
    "\n",
    "out = [3,-1]\n",
    "pro = [0.2,0.8]\n",
    "Data.append([2,out,pro])\n",
    "\n",
    "out = [4,5,6]\n",
    "pro = [0.3,0.2,0.5]\n",
    "Data.append([3,out,pro])\n",
    "#######################\n",
    "out = [7,8]\n",
    "pro = [0.35,0.65]\n",
    "Data.append([4,out,pro])\n",
    "\n",
    "out = [9,10]\n",
    "pro = [0.55,0.45]\n",
    "Data.append([5,out,pro])\n",
    "\n",
    "out = [11,12]\n",
    "pro = [0.5,0.5]\n",
    "Data.append([6,out,pro])\n",
    "#######################\n",
    "out = [13]\n",
    "pro = [1]\n",
    "Data.append([7,out,pro])\n",
    "\n",
    "out = [13]\n",
    "pro = [1]\n",
    "Data.append([8,out,pro])\n",
    "#######################\n",
    "out = [14]\n",
    "pro = [1]\n",
    "Data.append([9,out,pro])\n",
    "\n",
    "out = [14]\n",
    "pro = [1]\n",
    "Data.append([10,out,pro])\n",
    "#######################\n",
    "out = [15]\n",
    "pro = [1]\n",
    "Data.append([11,out,pro])\n",
    "\n",
    "out = [15]\n",
    "pro = [1]\n",
    "Data.append([12,out,pro])\n",
    "#######################\n",
    "out = [16]\n",
    "pro = [1]\n",
    "Data.append([13,out,pro])\n",
    "\n",
    "out = [16]\n",
    "pro = [1]\n",
    "Data.append([14,out,pro])\n",
    "\n",
    "out = [16]\n",
    "pro = [1]\n",
    "Data.append([15,out,pro])\n",
    "#######################\n",
    "out = [1]\n",
    "pro = [1]\n",
    "Data.append([16,out,pro])"
   ]
  },
  {
   "cell_type": "code",
   "execution_count": 5,
   "metadata": {},
   "outputs": [],
   "source": [
    "F = open('test_1.graph','w')\n",
    "\n",
    "for d in Data:\n",
    "    set_node(F,d[0],d[1],d[2])\n",
    "F.write('-1')\n",
    "F.close()"
   ]
  },
  {
   "cell_type": "code",
   "execution_count": null,
   "metadata": {},
   "outputs": [],
   "source": []
  },
  {
   "cell_type": "code",
   "execution_count": null,
   "metadata": {},
   "outputs": [],
   "source": []
  }
 ],
 "metadata": {
  "kernelspec": {
   "display_name": "Python 3",
   "language": "python",
   "name": "python3"
  },
  "language_info": {
   "codemirror_mode": {
    "name": "ipython",
    "version": 3
   },
   "file_extension": ".py",
   "mimetype": "text/x-python",
   "name": "python",
   "nbconvert_exporter": "python",
   "pygments_lexer": "ipython3",
   "version": "3.6.3"
  }
 },
 "nbformat": 4,
 "nbformat_minor": 2
}
